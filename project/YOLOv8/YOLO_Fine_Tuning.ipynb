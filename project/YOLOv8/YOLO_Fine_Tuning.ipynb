{
 "cells": [
  {
   "cell_type": "markdown",
   "id": "f2d53e9c-01b0-456d-9b2f-f8a4d7c0f3f7",
   "metadata": {},
   "source": [
    "### imports"
   ]
  },
  {
   "cell_type": "code",
   "execution_count": 1,
   "id": "724c56ad-55a6-447d-bf55-5655c1b16278",
   "metadata": {},
   "outputs": [],
   "source": [
    "import os\n",
    "import json\n",
    "import yaml\n",
    "import copy\n",
    "import torch\n",
    "import shutil\n",
    "import splitfolders\n",
    "from copy import deepcopy\n",
    "from model import *\n",
    "from ultralytics import YOLO"
   ]
  },
  {
   "cell_type": "markdown",
   "id": "ffe30e39-2989-4151-a762-253574c88230",
   "metadata": {},
   "source": [
    "### Cloning of TACO repository and environment"
   ]
  },
  {
   "cell_type": "code",
   "execution_count": 2,
   "id": "6d363ebf-4db4-4122-85f5-8df2657625fa",
   "metadata": {},
   "outputs": [
    {
     "name": "stdout",
     "output_type": "stream",
     "text": [
      "TACO already cloned to ./TACO directory.\n"
     ]
    }
   ],
   "source": [
    "if not os.path.exists(os.path.join(os.path.dirname(os.getcwd()), 'TACO')):\n",
    "    !git clone https://github.com/pedropro/TACO\n",
    "    %cd TACO\n",
    "    !python download.py\n",
    "    %cd ..\n",
    "    !pip install -r ./TACO/requirements.txt\n",
    "else:\n",
    "    print(\"TACO already cloned to ./TACO directory.\")"
   ]
  },
  {
   "cell_type": "markdown",
   "id": "1e4a44e0-a30a-47fa-ba90-8211cd980527",
   "metadata": {},
   "source": [
    "### Creation of images and labels folders to store data in YOLO formatting"
   ]
  },
  {
   "cell_type": "code",
   "execution_count": 3,
   "id": "428759ee-f11e-4e1b-92fe-10e8cddde6ef",
   "metadata": {},
   "outputs": [
    {
     "name": "stdout",
     "output_type": "stream",
     "text": [
      "TACO dataset folder already exists.\n",
      "TACO images folder already exists.\n",
      "TACO labels folder already exists.\n"
     ]
    }
   ],
   "source": [
    "if not os.path.exists(os.path.join(os.path.dirname(os.path.dirname(os.getcwd())), \"imgs/TACO\")):\n",
    "    os.makedirs(os.path.join(os.path.dirname(os.path.dirname(os.getcwd())), \"imgs/TACO\"))\n",
    "else:\n",
    "    print(\"TACO dataset folder already exists.\")\n",
    "if not os.path.exists(os.path.join(os.path.dirname(os.path.dirname(os.getcwd())), \"imgs/TACO/images\")):\n",
    "    os.makedirs(os.path.join(os.path.dirname(os.path.dirname(os.getcwd())), \"imgs/TACO/images\"))\n",
    "else:\n",
    "    print(\"TACO images folder already exists.\")\n",
    "if not os.path.exists(os.path.join(os.path.dirname(os.path.dirname(os.getcwd())), \"imgs/TACO/labels\")):\n",
    "    os.makedirs(os.path.join(os.path.dirname(os.path.dirname(os.getcwd())), \"imgs/TACO/labels\"))\n",
    "else:\n",
    "    print(\"TACO labels folder already exists.\")"
   ]
  },
  {
   "cell_type": "code",
   "execution_count": 4,
   "id": "777321d6-6e71-4234-9f54-7827c251fda2",
   "metadata": {},
   "outputs": [
    {
     "name": "stdout",
     "output_type": "stream",
     "text": [
      "TACO images already in the destination folder.\n"
     ]
    }
   ],
   "source": [
    "main_folder = os.path.join(os.path.dirname(os.getcwd()), \"TACO/data\")\n",
    "new_folder = os.path.join(os.path.dirname(os.path.dirname(os.getcwd())), \"imgs/TACO/images\")\n",
    "if os.listdir(new_folder):\n",
    "    print(\"TACO images already in the destination folder.\")\n",
    "else:\n",
    "    for subfolder in os.listdir(main_folder):\n",
    "        subfolder_path = os.path.join(main_folder, subfolder)\n",
    "        if os.path.isdir(subfolder_path):\n",
    "            for filename in os.listdir(subfolder_path):\n",
    "                if filename.lower().endswith(('.jpg', '.jpeg')):\n",
    "                    new_filename = f\"{subfolder}_{filename}\"\n",
    "                    src_path = os.path.join(subfolder_path, filename)\n",
    "                    dest_path = os.path.join(new_folder, new_filename)\n",
    "                    shutil.copy(src_path, dest_path)\n",
    "    print(\"Images were copied successfully .\")"
   ]
  },
  {
   "cell_type": "markdown",
   "id": "d3ee8de6-6500-4fd9-b0d7-c577b69f90d0",
   "metadata": {},
   "source": [
    "### Converting COCO format to YOLO using annotations.json info"
   ]
  },
  {
   "cell_type": "code",
   "execution_count": 5,
   "id": "b678e19d-9316-4245-aab4-2176a4958bf9",
   "metadata": {},
   "outputs": [],
   "source": [
    "annotaions_file = os.path.join(os.path.dirname(os.getcwd()), 'TACO/data/annotations.json')\n",
    "with open(annotaions_file, 'r') as f:\n",
    "    annotations = json.load(f)"
   ]
  },
  {
   "cell_type": "code",
   "execution_count": 6,
   "id": "a88040ad-9643-4b59-a16c-6eadb6f60e9e",
   "metadata": {},
   "outputs": [],
   "source": [
    "original_to_custom_categories = {\n",
    "    'bio': [\"Food waste\"],\n",
    "    'glass': ['Broken glass', 'Glass bottle', 'Glass jar', 'Glass cup'],\n",
    "    'metals_and_plastics': ['Aerosol', 'Aluminium foil', 'Clear plastic bottle',\n",
    "                'Disposable food container', 'Disposable plastic cup', 'Drink can',\n",
    "                'Drink carton', 'Food Can', 'Food can', 'Metal bottle cap', 'Metal lid',\n",
    "                'Other plastic', 'Other plastic bottle', 'Other plastic container',\n",
    "                'Other plastic cup', 'Plastic Film', 'Plastic bottle cap', 'Plastic film',\n",
    "                'Plastic glooves', 'Plastic lid', 'Plastic straw', 'Plastic utensils',\n",
    "                'Polypropylene bag', 'Pop tab', 'Scrap metal', 'Single-use carrier bag',\n",
    "                'Six pack rings', 'Spread tub', 'Tupperware'],\n",
    "    'non_recyclable': ['Aluminium blister pack', 'Carded blister pack', 'Cigarette',\n",
    "                'Crisp packet', 'Foam cup', 'Foam food container', 'Garbage bag',\n",
    "                'Meal carton', 'Meal carton', 'Other plastic wrapper', 'Paper cup',\n",
    "                'Paper straw', 'Pizza box', 'Plastified paper bag', 'Rope', 'Rope & strings',\n",
    "                'Shoe', 'Squeezable tube', 'Styrofoam piece', 'Tissues', 'Wrapping paper'],\n",
    "    'other': [\"Battery\"],\n",
    "    'paper': [\"Corrugated carton\",\"Egg carton\",\"Toilet tube\",\"Other carton\",\n",
    "                'Magazine paper', \"Normal paper\", \"Paper bag\"],\n",
    "    'unknown': [\"Unlabeled litter\"]\n",
    "}\n",
    "original_to_custom_reverse = {}\n",
    "for custom, originals in original_to_custom_categories.items():\n",
    "    for original in originals:\n",
    "        original_to_custom_reverse[original] = custom"
   ]
  },
  {
   "cell_type": "code",
   "execution_count": 7,
   "id": "b21b1b1e-2f41-46e2-82a1-9da23dde876a",
   "metadata": {},
   "outputs": [
    {
     "name": "stdout",
     "output_type": "stream",
     "text": [
      "Annotations per image already saved in YOLO format under image file name\n"
     ]
    }
   ],
   "source": [
    "labels_dir = os.path.join(os.path.dirname(os.path.dirname(os.getcwd())), \"imgs/TACO/labels\")\n",
    "if os.listdir(labels_dir):\n",
    "    print(\"Annotations per image already saved in YOLO format under image file name\")\n",
    "else:\n",
    "    for image_info in annotations['images']:\n",
    "        image_id = image_info['id']\n",
    "        image_file_name = image_info['file_name'].replace('/', '_').split('.')[0] + '.txt'\n",
    "        file_path = os.path.join(labels_dir, image_file_name)\n",
    "        width, height = image_info['width'], image_info['height']\n",
    "        annotation_data = [ann for ann in annotations['annotations'] if ann['image_id'] == image_id]\n",
    "        buffer = ''\n",
    "        for annotation in annotation_data:\n",
    "            bbox = annotation['bbox']\n",
    "            if bbox[2] < 1 or bbox[3] < 1:\n",
    "                continue\n",
    "            x_center = (bbox[0] + bbox[2] / 2) / width\n",
    "            y_center = (bbox[1] + bbox[3] / 2) / height\n",
    "            w = bbox[2] / width\n",
    "            h = bbox[3] / height\n",
    "            original_category_name = annotations['categories'][annotation['category_id'] - 1]['name']\n",
    "            custom_category = original_to_custom_reverse.get(original_category_name, 'unknown')\n",
    "            new_category_id = custom_to_new_id[custom_category]\n",
    "            buffer += f\"{new_category_id} {x_center} {y_center} {w} {h}\\n\"\n",
    "        with open(file_path, 'w') as f:\n",
    "            f.write(buffer)"
   ]
  },
  {
   "cell_type": "markdown",
   "id": "791595f2-a645-40c2-8380-3e3566f1d03f",
   "metadata": {},
   "source": [
    "### Splitting the data into train, validation, and test sets"
   ]
  },
  {
   "cell_type": "code",
   "execution_count": 8,
   "id": "e23778f9-875c-4361-af51-b2b33210e897",
   "metadata": {},
   "outputs": [
    {
     "name": "stdout",
     "output_type": "stream",
     "text": [
      "TACO dataset already split.\n"
     ]
    }
   ],
   "source": [
    "data_path = os.path.join(os.path.dirname(os.path.dirname(os.getcwd())), \"imgs/TACO\")\n",
    "data_path_split = os.path.join(os.path.dirname(os.path.dirname(os.getcwd())), \"imgs/TACO_DATASET\")\n",
    "if not os.path.exists(data_path_split):\n",
    "    splitfolders.ratio(data_path, output=data_path_split, seed=0, ratio=(.8, .1, .1))\n",
    "else:\n",
    "    print(\"TACO dataset already split.\")"
   ]
  },
  {
   "cell_type": "markdown",
   "id": "00b56f9c-9f1d-49f8-9242-77114da3694f",
   "metadata": {},
   "source": [
    "### Creating yaml file for YOLO train function"
   ]
  },
  {
   "cell_type": "code",
   "execution_count": 9,
   "id": "913be599-20a4-441c-a5eb-5b00786da7b1",
   "metadata": {},
   "outputs": [
    {
     "name": "stdout",
     "output_type": "stream",
     "text": [
      "/home/hay.e/DeepLearning/Project/mini_project/project/YOLOv8/config.yaml already exists.\n"
     ]
    }
   ],
   "source": [
    "yaml_path = os.path.join(os.getcwd(), 'config.yaml')\n",
    "if os.path.exists(yaml_path):\n",
    "    print(f\"{yaml_path} already exists.\")\n",
    "else:\n",
    "    yaml_dict = {\n",
    "        'train': os.path.join(os.path.dirname(os.path.dirname(os.getcwd())), \"imgs/TACO_DATASET/train/images\"),\n",
    "        'val': os.path.join(os.path.dirname(os.path.dirname(os.getcwd())), \"imgs/TACO_DATASET/val/images\"),\n",
    "        'test': os.path.join(os.path.dirname(os.path.dirname(os.getcwd())), \"imgs/TACO_DATASET/test/images\"),\n",
    "        'names': custom_categories\n",
    "    }\n",
    "    with open(yaml_path, 'w') as yaml_file:\n",
    "        yaml.dump(yaml_dict, yaml_file)"
   ]
  },
  {
   "cell_type": "markdown",
   "id": "a6bd8544-977c-4312-ac5f-99abc06c5899",
   "metadata": {},
   "source": [
    "### Train and Validation - Optimizers experiment"
   ]
  },
  {
   "cell_type": "code",
   "execution_count": 10,
   "id": "5d36c624-fb4c-4e3c-a36d-b251c01e38a3",
   "metadata": {},
   "outputs": [
    {
     "name": "stdout",
     "output_type": "stream",
     "text": [
      "Optimizers experiment results folder already exists.\n"
     ]
    }
   ],
   "source": [
    "if not os.path.exists(os.path.join(os.path.dirname(os.path.dirname(os.getcwd())), \"results/Optimizers_exp\")):\n",
    "    os.makedirs(os.path.join(os.path.dirname(os.path.dirname(os.getcwd())), \"results/Optimizers_exp\"))\n",
    "else:\n",
    "    print(\"Optimizers experiment results folder already exists.\")"
   ]
  },
  {
   "cell_type": "code",
   "execution_count": 21,
   "id": "309ad8bb-b2be-44a6-8dd9-c7955af5d2a9",
   "metadata": {},
   "outputs": [
    {
     "name": "stdout",
     "output_type": "stream",
     "text": [
      "SGD experiment already done and results were saved at /home/hay.e/DeepLearning/Project/mini_project/results/Optimizers_exp/SGD\n",
      "Adam experiment already done and results were saved at /home/hay.e/DeepLearning/Project/mini_project/results/Optimizers_exp/Adam\n",
      "AdamW experiment already done and results were saved at /home/hay.e/DeepLearning/Project/mini_project/results/Optimizers_exp/AdamW\n",
      "RMSProp experiment already done and results were saved at /home/hay.e/DeepLearning/Project/mini_project/results/Optimizers_exp/RMSProp\n"
     ]
    }
   ],
   "source": [
    "model_template = initialize_model()\n",
    "optimizers = ['SGD', 'Adam', 'AdamW', 'RMSProp']\n",
    "for optimizer in optimizers:\n",
    "    model = copy.deepcopy(model_template)\n",
    "    folder_name = f\"{optimizer}\"\n",
    "    save_dir = os.path.join(os.path.dirname(os.path.dirname(os.getcwd())), f'results/Optimizers_exp/{folder_name}')\n",
    "    if not os.path.exists(save_dir):\n",
    "        extra_params = {\"pretrained\": True, \"optimizer\": optimizer, \"epochs\": 100}\n",
    "        train_custom_model(model, save_dir, yaml_path, extra_params)\n",
    "    else:\n",
    "        print(f'{folder_name} experiment already done and results were saved at {save_dir}')"
   ]
  },
  {
   "cell_type": "markdown",
   "id": "8db295f7-96c8-4c7f-88a9-873d441d7be7",
   "metadata": {},
   "source": [
    "### Train and Validation - HyperParameters tuning experiment"
   ]
  },
  {
   "cell_type": "code",
   "execution_count": 12,
   "id": "0c2c7a7c-0529-4698-8568-5e210aa504d1",
   "metadata": {},
   "outputs": [
    {
     "name": "stdout",
     "output_type": "stream",
     "text": [
      "Hyper parameters tuning experiment results folder already exists.\n"
     ]
    }
   ],
   "source": [
    "if not os.path.exists(os.path.join(os.path.dirname(os.path.dirname(os.getcwd())), \"results/HyperParams_tuning_exp\")):\n",
    "    os.makedirs(os.path.join(os.path.dirname(os.path.dirname(os.getcwd())), \"results/HyperParams_tuning_exp\"))\n",
    "else:\n",
    "    print(\"Hyper parameters tuning experiment results folder already exists.\")"
   ]
  },
  {
   "cell_type": "code",
   "execution_count": 22,
   "id": "0464fc0c-39df-4e15-85f6-61fd1ba6ff06",
   "metadata": {},
   "outputs": [
    {
     "name": "stdout",
     "output_type": "stream",
     "text": [
      "lr_0.01_momentum_0.9_batch_size_4 experiment already done and results were saved at /home/hay.e/DeepLearning/Project/mini_project/results/HyperParams_tuning_exp/lr_0.01_momentum_0.9_batch_size_4\n",
      "lr_0.01_momentum_0.9_batch_size_8 experiment already done and results were saved at /home/hay.e/DeepLearning/Project/mini_project/results/HyperParams_tuning_exp/lr_0.01_momentum_0.9_batch_size_8\n",
      "lr_0.01_momentum_0.9_batch_size_16 experiment already done and results were saved at /home/hay.e/DeepLearning/Project/mini_project/results/HyperParams_tuning_exp/lr_0.01_momentum_0.9_batch_size_16\n",
      "lr_0.01_momentum_0.937_batch_size_4 experiment already done and results were saved at /home/hay.e/DeepLearning/Project/mini_project/results/HyperParams_tuning_exp/lr_0.01_momentum_0.937_batch_size_4\n",
      "lr_0.01_momentum_0.937_batch_size_8 experiment already done and results were saved at /home/hay.e/DeepLearning/Project/mini_project/results/HyperParams_tuning_exp/lr_0.01_momentum_0.937_batch_size_8\n",
      "lr_0.01_momentum_0.937_batch_size_16 experiment already done and results were saved at /home/hay.e/DeepLearning/Project/mini_project/results/HyperParams_tuning_exp/lr_0.01_momentum_0.937_batch_size_16\n",
      "lr_0.01_momentum_0.97_batch_size_4 experiment already done and results were saved at /home/hay.e/DeepLearning/Project/mini_project/results/HyperParams_tuning_exp/lr_0.01_momentum_0.97_batch_size_4\n",
      "lr_0.01_momentum_0.97_batch_size_8 experiment already done and results were saved at /home/hay.e/DeepLearning/Project/mini_project/results/HyperParams_tuning_exp/lr_0.01_momentum_0.97_batch_size_8\n",
      "lr_0.01_momentum_0.97_batch_size_16 experiment already done and results were saved at /home/hay.e/DeepLearning/Project/mini_project/results/HyperParams_tuning_exp/lr_0.01_momentum_0.97_batch_size_16\n",
      "lr_0.015_momentum_0.9_batch_size_4 experiment already done and results were saved at /home/hay.e/DeepLearning/Project/mini_project/results/HyperParams_tuning_exp/lr_0.015_momentum_0.9_batch_size_4\n",
      "lr_0.015_momentum_0.9_batch_size_8 experiment already done and results were saved at /home/hay.e/DeepLearning/Project/mini_project/results/HyperParams_tuning_exp/lr_0.015_momentum_0.9_batch_size_8\n",
      "lr_0.015_momentum_0.9_batch_size_16 experiment already done and results were saved at /home/hay.e/DeepLearning/Project/mini_project/results/HyperParams_tuning_exp/lr_0.015_momentum_0.9_batch_size_16\n",
      "lr_0.015_momentum_0.937_batch_size_4 experiment already done and results were saved at /home/hay.e/DeepLearning/Project/mini_project/results/HyperParams_tuning_exp/lr_0.015_momentum_0.937_batch_size_4\n",
      "lr_0.015_momentum_0.937_batch_size_8 experiment already done and results were saved at /home/hay.e/DeepLearning/Project/mini_project/results/HyperParams_tuning_exp/lr_0.015_momentum_0.937_batch_size_8\n",
      "lr_0.015_momentum_0.937_batch_size_16 experiment already done and results were saved at /home/hay.e/DeepLearning/Project/mini_project/results/HyperParams_tuning_exp/lr_0.015_momentum_0.937_batch_size_16\n",
      "lr_0.015_momentum_0.97_batch_size_4 experiment already done and results were saved at /home/hay.e/DeepLearning/Project/mini_project/results/HyperParams_tuning_exp/lr_0.015_momentum_0.97_batch_size_4\n",
      "lr_0.015_momentum_0.97_batch_size_8 experiment already done and results were saved at /home/hay.e/DeepLearning/Project/mini_project/results/HyperParams_tuning_exp/lr_0.015_momentum_0.97_batch_size_8\n",
      "lr_0.015_momentum_0.97_batch_size_16 experiment already done and results were saved at /home/hay.e/DeepLearning/Project/mini_project/results/HyperParams_tuning_exp/lr_0.015_momentum_0.97_batch_size_16\n"
     ]
    }
   ],
   "source": [
    "model_template = initialize_model()\n",
    "\n",
    "learning_rates = [0.01, 0.015]\n",
    "momentums = [0.9, 0.937, 0.97]\n",
    "batch_sizes = [4, 8, 16]\n",
    "\n",
    "for lr in learning_rates:\n",
    "    for momentum in momentums:\n",
    "        for batch_size in batch_sizes:\n",
    "            model = copy.deepcopy(model_template)\n",
    "            folder_name = f\"lr_{lr}_momentum_{momentum}_batch_size_{batch_size}\"\n",
    "            save_dir = os.path.join(os.path.dirname(os.path.dirname(os.getcwd())), f'results/HyperParams_tuning_exp/{folder_name}')\n",
    "            if not os.path.exists(save_dir):\n",
    "                extra_params = {\n",
    "                    \"pretrained\": True,\n",
    "                    \"optimizer\": \"SGD\",\n",
    "                    \"epochs\": 70,\n",
    "                    \"lr0\": lr,\n",
    "                    \"momentum\": momentum,\n",
    "                    \"batch\": batch_size,\n",
    "                    \"lrf\": lr/10\n",
    "                }\n",
    "                print(f\"Training with {extra_params}\")\n",
    "                train_custom_model(model, save_dir, yaml_path, extra_params)\n",
    "            else:\n",
    "                print(f'{folder_name} experiment already done and results were saved at {save_dir}')"
   ]
  },
  {
   "cell_type": "markdown",
   "id": "3dde06c4-1d23-43e0-bff5-db20f9ee3678",
   "metadata": {},
   "source": [
    "### Train and Validation - Freezing Layers experiment"
   ]
  },
  {
   "cell_type": "code",
   "execution_count": 14,
   "id": "3805e114-103a-44ea-9a9a-9d4b98c7926b",
   "metadata": {},
   "outputs": [
    {
     "name": "stdout",
     "output_type": "stream",
     "text": [
      "Freezing layers experiment results folder already exists.\n"
     ]
    }
   ],
   "source": [
    "if not os.path.exists(os.path.join(os.path.dirname(os.path.dirname(os.getcwd())), \"results/Freezing_layers_exp\")):\n",
    "    os.makedirs(os.path.join(os.path.dirname(os.path.dirname(os.getcwd())), \"results/Freezing_layers_exp\"))\n",
    "else:\n",
    "    print(\"Freezing layers experiment results folder already exists.\")"
   ]
  },
  {
   "cell_type": "code",
   "execution_count": 23,
   "id": "f97e4369-10a4-4653-b59c-b42bd56baf96",
   "metadata": {},
   "outputs": [
    {
     "name": "stdout",
     "output_type": "stream",
     "text": [
      "frozen_yolo_SGD_lr0_0.001_momentum_0.97_batch_8 experiment already done and results were saved at /home/hay.e/DeepLearning/Project/mini_project/results/Freezing_layers_exp/frozen_yolo_SGD_lr0_0.001_momentum_0.97_batch_8\n"
     ]
    }
   ],
   "source": [
    "model = initialize_model()\n",
    "model.add_callback(\"on_train_start\", freeze_layer)\n",
    "folder_name = f\"frozen_yolo_SGD_lr0_0.001_momentum_0.97_batch_8\"\n",
    "save_dir = os.path.join(os.path.dirname(os.path.dirname(os.getcwd())), f'results/Freezing_layers_exp/{folder_name}')\n",
    "if not os.path.exists(save_dir):\n",
    "    extra_params = {\n",
    "        \"pretrained\": True,\n",
    "        \"optimizer\": \"SGD\",\n",
    "        \"epochs\": 100,\n",
    "        \"lr0\": 0.001,\n",
    "        \"momentum\": 0.97,\n",
    "        \"batch\": 8,\n",
    "        \"lrf\": 0.0001\n",
    "    }\n",
    "    train_custom_model(model, save_dir, yaml_path, extra_params)\n",
    "else:\n",
    "    print(f'{folder_name} experiment already done and results were saved at {save_dir}')"
   ]
  },
  {
   "cell_type": "markdown",
   "id": "70e7094d-062d-4e9a-a576-5034cd0e57e3",
   "metadata": {},
   "source": [
    "### Testing"
   ]
  },
  {
   "cell_type": "code",
   "execution_count": 26,
   "id": "557e2267-e728-4b29-bead-14f51d3d64db",
   "metadata": {},
   "outputs": [
    {
     "name": "stdout",
     "output_type": "stream",
     "text": [
      "Testing already done and results were saved at /home/hay.e/DeepLearning/Project/mini_project/tests\n"
     ]
    }
   ],
   "source": [
    "chosen_weights_path = os.path.join(os.path.dirname(os.path.dirname(os.getcwd())), 'results/HyperParams_tuning_exp/lr_0.001_momentum_0.97_batch_size_82/weights/best.pt')\n",
    "save_dir_path = os.path.join(os.path.dirname(os.path.dirname(os.getcwd())), 'tests')\n",
    "if not os.listdir(save_dir_path):\n",
    "    model = YOLO(chosen_weights_path)\n",
    "    eval_results = evaluate_model_performance(model, save_dir_path)\n",
    "else:\n",
    "    print(f'Testing already done and results were saved at {save_dir_path}')"
   ]
  },
  {
   "cell_type": "markdown",
   "id": "29175fda-1063-4914-9c7d-12f190263ad0",
   "metadata": {},
   "source": [
    "### Testing - IoU thresholds experiment"
   ]
  },
  {
   "cell_type": "code",
   "execution_count": 29,
   "id": "4f852184-9692-47c3-a604-33e9e0a835ee",
   "metadata": {},
   "outputs": [
    {
     "name": "stdout",
     "output_type": "stream",
     "text": [
      "IoU threshold 0.3 experiment already done and results were saved at /home/hay.e/DeepLearning/Project/mini_project/tests/IoU_threshold_0.3\n",
      "IoU threshold 0.4 experiment already done and results were saved at /home/hay.e/DeepLearning/Project/mini_project/tests/IoU_threshold_0.4\n",
      "IoU threshold 0.5 experiment already done and results were saved at /home/hay.e/DeepLearning/Project/mini_project/tests/IoU_threshold_0.5\n",
      "IoU threshold 0.7 experiment already done and results were saved at /home/hay.e/DeepLearning/Project/mini_project/tests/IoU_threshold_0.7\n",
      "IoU threshold 0.8 experiment already done and results were saved at /home/hay.e/DeepLearning/Project/mini_project/tests/IoU_threshold_0.8\n",
      "IoU threshold 0.9 experiment already done and results were saved at /home/hay.e/DeepLearning/Project/mini_project/tests/IoU_threshold_0.9\n"
     ]
    }
   ],
   "source": [
    "chosen_weights_path = os.path.join(os.path.dirname(os.path.dirname(os.getcwd())), 'results/HyperParams_tuning_exp/lr_0.001_momentum_0.97_batch_size_82/weights/best.pt')\n",
    "save_dir_path = os.path.join(os.path.dirname(os.path.dirname(os.getcwd())), 'tests')\n",
    "model_template = YOLO(chosen_weights_path)\n",
    "for iou in [0.3, 0.4, 0.5, 0.7, 0.8, 0.9]:\n",
    "    if not os.path.exists(os.path.join(os.path.dirname(os.path.dirname(os.getcwd())), f'tests/IoU_threshold_{iou}')):\n",
    "        model = copy.deepcopy(model_template)\n",
    "        eval_results = evaluate_model_performance(model, save_dir_path, iou)\n",
    "    else:\n",
    "        print(f'IoU threshold {iou} experiment already done and results were saved at {save_dir_path}/IoU_threshold_{iou}')"
   ]
  }
 ],
 "metadata": {
  "kernelspec": {
   "display_name": "Python 3 (ipykernel)",
   "language": "python",
   "name": "python3"
  },
  "language_info": {
   "codemirror_mode": {
    "name": "ipython",
    "version": 3
   },
   "file_extension": ".py",
   "mimetype": "text/x-python",
   "name": "python",
   "nbconvert_exporter": "python",
   "pygments_lexer": "ipython3",
   "version": "3.8.12"
  },
  "widgets": {
   "application/vnd.jupyter.widget-state+json": {
    "state": {
     "0ae2fbcb238040818ddc1fceb6e528b4": {
      "model_module": "@jupyter-widgets/base",
      "model_module_version": "2.0.0",
      "model_name": "LayoutModel",
      "state": {
       "_model_module": "@jupyter-widgets/base",
       "_model_module_version": "2.0.0",
       "_model_name": "LayoutModel",
       "_view_count": null,
       "_view_module": "@jupyter-widgets/base",
       "_view_module_version": "2.0.0",
       "_view_name": "LayoutView",
       "align_content": null,
       "align_items": null,
       "align_self": null,
       "border_bottom": null,
       "border_left": null,
       "border_right": null,
       "border_top": null,
       "bottom": null,
       "display": null,
       "flex": null,
       "flex_flow": null,
       "grid_area": null,
       "grid_auto_columns": null,
       "grid_auto_flow": null,
       "grid_auto_rows": null,
       "grid_column": null,
       "grid_gap": null,
       "grid_row": null,
       "grid_template_areas": null,
       "grid_template_columns": null,
       "grid_template_rows": null,
       "height": null,
       "justify_content": null,
       "justify_items": null,
       "left": null,
       "margin": null,
       "max_height": null,
       "max_width": null,
       "min_height": null,
       "min_width": null,
       "object_fit": null,
       "object_position": null,
       "order": null,
       "overflow": null,
       "padding": null,
       "right": null,
       "top": null,
       "visibility": null,
       "width": null
      }
     },
     "0ece90083963421da2dda35f589d2881": {
      "model_module": "@jupyter-widgets/base",
      "model_module_version": "2.0.0",
      "model_name": "LayoutModel",
      "state": {
       "_model_module": "@jupyter-widgets/base",
       "_model_module_version": "2.0.0",
       "_model_name": "LayoutModel",
       "_view_count": null,
       "_view_module": "@jupyter-widgets/base",
       "_view_module_version": "2.0.0",
       "_view_name": "LayoutView",
       "align_content": null,
       "align_items": null,
       "align_self": null,
       "border_bottom": null,
       "border_left": null,
       "border_right": null,
       "border_top": null,
       "bottom": null,
       "display": null,
       "flex": null,
       "flex_flow": null,
       "grid_area": null,
       "grid_auto_columns": null,
       "grid_auto_flow": null,
       "grid_auto_rows": null,
       "grid_column": null,
       "grid_gap": null,
       "grid_row": null,
       "grid_template_areas": null,
       "grid_template_columns": null,
       "grid_template_rows": null,
       "height": null,
       "justify_content": null,
       "justify_items": null,
       "left": null,
       "margin": null,
       "max_height": null,
       "max_width": null,
       "min_height": null,
       "min_width": null,
       "object_fit": null,
       "object_position": null,
       "order": null,
       "overflow": null,
       "padding": null,
       "right": null,
       "top": null,
       "visibility": null,
       "width": null
      }
     },
     "29e81aeb03ff400cb3a90db53d533273": {
      "model_module": "@jupyter-widgets/controls",
      "model_module_version": "2.0.0",
      "model_name": "HBoxModel",
      "state": {
       "_dom_classes": [],
       "_model_module": "@jupyter-widgets/controls",
       "_model_module_version": "2.0.0",
       "_model_name": "HBoxModel",
       "_view_count": null,
       "_view_module": "@jupyter-widgets/controls",
       "_view_module_version": "2.0.0",
       "_view_name": "HBoxView",
       "box_style": "",
       "children": [
        "IPY_MODEL_f72f1bf6d4c9423999000fc931005563",
        "IPY_MODEL_5f699c5132784c288402753498c01cb7",
        "IPY_MODEL_bf859d61a4ed41a9b92a11db75fddebe"
       ],
       "layout": "IPY_MODEL_0ae2fbcb238040818ddc1fceb6e528b4",
       "tabbable": null,
       "tooltip": null
      }
     },
     "361185cd71ca45e096b50aa32e778461": {
      "model_module": "@jupyter-widgets/base",
      "model_module_version": "2.0.0",
      "model_name": "LayoutModel",
      "state": {
       "_model_module": "@jupyter-widgets/base",
       "_model_module_version": "2.0.0",
       "_model_name": "LayoutModel",
       "_view_count": null,
       "_view_module": "@jupyter-widgets/base",
       "_view_module_version": "2.0.0",
       "_view_name": "LayoutView",
       "align_content": null,
       "align_items": null,
       "align_self": null,
       "border_bottom": null,
       "border_left": null,
       "border_right": null,
       "border_top": null,
       "bottom": null,
       "display": null,
       "flex": null,
       "flex_flow": null,
       "grid_area": null,
       "grid_auto_columns": null,
       "grid_auto_flow": null,
       "grid_auto_rows": null,
       "grid_column": null,
       "grid_gap": null,
       "grid_row": null,
       "grid_template_areas": null,
       "grid_template_columns": null,
       "grid_template_rows": null,
       "height": null,
       "justify_content": null,
       "justify_items": null,
       "left": null,
       "margin": null,
       "max_height": null,
       "max_width": null,
       "min_height": null,
       "min_width": null,
       "object_fit": null,
       "object_position": null,
       "order": null,
       "overflow": null,
       "padding": null,
       "right": null,
       "top": null,
       "visibility": null,
       "width": null
      }
     },
     "5f699c5132784c288402753498c01cb7": {
      "model_module": "@jupyter-widgets/controls",
      "model_module_version": "2.0.0",
      "model_name": "FloatProgressModel",
      "state": {
       "_dom_classes": [],
       "_model_module": "@jupyter-widgets/controls",
       "_model_module_version": "2.0.0",
       "_model_name": "FloatProgressModel",
       "_view_count": null,
       "_view_module": "@jupyter-widgets/controls",
       "_view_module_version": "2.0.0",
       "_view_name": "ProgressView",
       "bar_style": "success",
       "description": "",
       "description_allow_html": false,
       "layout": "IPY_MODEL_0ece90083963421da2dda35f589d2881",
       "max": 6534387,
       "min": 0,
       "orientation": "horizontal",
       "style": "IPY_MODEL_61702ac421924488a1393c5122f6ea58",
       "tabbable": null,
       "tooltip": null,
       "value": 6534387
      }
     },
     "61702ac421924488a1393c5122f6ea58": {
      "model_module": "@jupyter-widgets/controls",
      "model_module_version": "2.0.0",
      "model_name": "ProgressStyleModel",
      "state": {
       "_model_module": "@jupyter-widgets/controls",
       "_model_module_version": "2.0.0",
       "_model_name": "ProgressStyleModel",
       "_view_count": null,
       "_view_module": "@jupyter-widgets/base",
       "_view_module_version": "2.0.0",
       "_view_name": "StyleView",
       "bar_color": null,
       "description_width": ""
      }
     },
     "68e1ff10442243ac8de45906c32a3885": {
      "model_module": "@jupyter-widgets/controls",
      "model_module_version": "2.0.0",
      "model_name": "HTMLStyleModel",
      "state": {
       "_model_module": "@jupyter-widgets/controls",
       "_model_module_version": "2.0.0",
       "_model_name": "HTMLStyleModel",
       "_view_count": null,
       "_view_module": "@jupyter-widgets/base",
       "_view_module_version": "2.0.0",
       "_view_name": "StyleView",
       "background": null,
       "description_width": "",
       "font_size": null,
       "text_color": null
      }
     },
     "73c98b74787e4b2295b68adb6c9bcb65": {
      "model_module": "@jupyter-widgets/controls",
      "model_module_version": "2.0.0",
      "model_name": "HTMLStyleModel",
      "state": {
       "_model_module": "@jupyter-widgets/controls",
       "_model_module_version": "2.0.0",
       "_model_name": "HTMLStyleModel",
       "_view_count": null,
       "_view_module": "@jupyter-widgets/base",
       "_view_module_version": "2.0.0",
       "_view_name": "StyleView",
       "background": null,
       "description_width": "",
       "font_size": null,
       "text_color": null
      }
     },
     "b05c2ac5eae04b84bc61c69fa48a7235": {
      "model_module": "@jupyter-widgets/base",
      "model_module_version": "2.0.0",
      "model_name": "LayoutModel",
      "state": {
       "_model_module": "@jupyter-widgets/base",
       "_model_module_version": "2.0.0",
       "_model_name": "LayoutModel",
       "_view_count": null,
       "_view_module": "@jupyter-widgets/base",
       "_view_module_version": "2.0.0",
       "_view_name": "LayoutView",
       "align_content": null,
       "align_items": null,
       "align_self": null,
       "border_bottom": null,
       "border_left": null,
       "border_right": null,
       "border_top": null,
       "bottom": null,
       "display": null,
       "flex": null,
       "flex_flow": null,
       "grid_area": null,
       "grid_auto_columns": null,
       "grid_auto_flow": null,
       "grid_auto_rows": null,
       "grid_column": null,
       "grid_gap": null,
       "grid_row": null,
       "grid_template_areas": null,
       "grid_template_columns": null,
       "grid_template_rows": null,
       "height": null,
       "justify_content": null,
       "justify_items": null,
       "left": null,
       "margin": null,
       "max_height": null,
       "max_width": null,
       "min_height": null,
       "min_width": null,
       "object_fit": null,
       "object_position": null,
       "order": null,
       "overflow": null,
       "padding": null,
       "right": null,
       "top": null,
       "visibility": null,
       "width": null
      }
     },
     "bf859d61a4ed41a9b92a11db75fddebe": {
      "model_module": "@jupyter-widgets/controls",
      "model_module_version": "2.0.0",
      "model_name": "HTMLModel",
      "state": {
       "_dom_classes": [],
       "_model_module": "@jupyter-widgets/controls",
       "_model_module_version": "2.0.0",
       "_model_name": "HTMLModel",
       "_view_count": null,
       "_view_module": "@jupyter-widgets/controls",
       "_view_module_version": "2.0.0",
       "_view_name": "HTMLView",
       "description": "",
       "description_allow_html": false,
       "layout": "IPY_MODEL_b05c2ac5eae04b84bc61c69fa48a7235",
       "placeholder": "​",
       "style": "IPY_MODEL_68e1ff10442243ac8de45906c32a3885",
       "tabbable": null,
       "tooltip": null,
       "value": " 6.23M/6.23M [00:00&lt;00:00, 8.70MB/s]"
      }
     },
     "f72f1bf6d4c9423999000fc931005563": {
      "model_module": "@jupyter-widgets/controls",
      "model_module_version": "2.0.0",
      "model_name": "HTMLModel",
      "state": {
       "_dom_classes": [],
       "_model_module": "@jupyter-widgets/controls",
       "_model_module_version": "2.0.0",
       "_model_name": "HTMLModel",
       "_view_count": null,
       "_view_module": "@jupyter-widgets/controls",
       "_view_module_version": "2.0.0",
       "_view_name": "HTMLView",
       "description": "",
       "description_allow_html": false,
       "layout": "IPY_MODEL_361185cd71ca45e096b50aa32e778461",
       "placeholder": "​",
       "style": "IPY_MODEL_73c98b74787e4b2295b68adb6c9bcb65",
       "tabbable": null,
       "tooltip": null,
       "value": "100%"
      }
     }
    },
    "version_major": 2,
    "version_minor": 0
   }
  }
 },
 "nbformat": 4,
 "nbformat_minor": 5
}
