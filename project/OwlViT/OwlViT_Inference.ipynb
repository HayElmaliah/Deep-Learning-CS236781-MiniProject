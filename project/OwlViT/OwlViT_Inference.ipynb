{
 "cells": [
  {
   "cell_type": "code",
   "execution_count": 4,
   "id": "c7791650-7eb5-44b0-b809-0d675e63630c",
   "metadata": {},
   "outputs": [],
   "source": [
    "import os\n",
    "import requests\n",
    "import torch\n",
    "from PIL import Image\n",
    "from transformers import AutoProcessor, OwlViTForObjectDetection"
   ]
  },
  {
   "cell_type": "markdown",
   "id": "01822fa5-884e-4afa-a069-56b4c10496a5",
   "metadata": {},
   "source": [
    "### Initialize the OWL-ViT model and processor"
   ]
  },
  {
   "cell_type": "code",
   "execution_count": 8,
   "id": "9d1712f4-5a43-4841-8c07-340d3ef70d72",
   "metadata": {},
   "outputs": [],
   "source": [
    "processor = AutoProcessor.from_pretrained(\"google/owlvit-base-patch32\")\n",
    "model = OwlViTForObjectDetection.from_pretrained(\"google/owlvit-base-patch32\")"
   ]
  },
  {
   "cell_type": "markdown",
   "id": "517e3a54-cc8d-4e08-bf8c-e2718d855bdb",
   "metadata": {},
   "source": [
    "### Create results directory if it doesn't exist"
   ]
  },
  {
   "cell_type": "code",
   "execution_count": 9,
   "id": "0cfff53d-ae99-4e89-bb5d-02f49e7ee172",
   "metadata": {},
   "outputs": [],
   "source": [
    "results_dir = os.path.join(os.path.dirname(os.getcwd()), \"results/OwlViT\")\n",
    "if not os.path.exists(results_dir):\n",
    "    os.makedirs(results_dir)"
   ]
  },
  {
   "cell_type": "markdown",
   "id": "342069fe-43ae-4bab-b3da-62e6e65639d1",
   "metadata": {},
   "source": [
    "### Define text queries"
   ]
  },
  {
   "cell_type": "code",
   "execution_count": 1,
   "id": "d28dacad-f66a-42ca-964c-adceb8cc04b0",
   "metadata": {},
   "outputs": [],
   "source": [
    "# texts = ['Food waste', 'Broken glass', 'Glass bottle', 'Glass jar', 'Glass cup','Aerosol',\n",
    "#             'Aluminium foil', 'Clear plastic bottle', 'Disposable food container',\n",
    "#             'Disposable plastic cup', 'Drink can', 'Drink carton', 'Food Can', 'Food can',\n",
    "#             'Metal bottle cap', 'Metal lid', 'Other plastic', 'Other plastic bottle',\n",
    "#             'Other plastic container', 'Other plastic cup', 'Plastic Film', 'Plastic bottle cap',\n",
    "#             'Plastic film', 'Plastic glooves', 'Plastic lid', 'Plastic straw', 'Plastic utensils',\n",
    "#             'Polypropylene bag', 'Pop tab', 'Scrap metal', 'Single-use carrier bag',\n",
    "#             'Six pack rings', 'Spread tub', 'Tupperware', 'Aluminium blister pack',\n",
    "#             'Carded blister pack', 'Cigarette', 'Crisp packet', 'Foam cup', 'Foam food container',\n",
    "#             'Garbage bag', 'Meal carton', 'Meal carton', 'Other plastic wrapper', 'Paper cup',\n",
    "#             'Paper straw', 'Pizza box', 'Plastified paper bag', 'Rope', 'Rope & strings', 'Shoe',\n",
    "#             'Squeezable tube', 'Styrofoam piece', 'Tissues', 'Wrapping paper', \"Battery\",\n",
    "#             'Corrugated carton', 'Egg carton', 'Toilet tube', 'Other carton', 'Magazine paper',\n",
    "#             'Normal paper', 'Paper bag', 'Unlabeled litter']"
   ]
  },
  {
   "cell_type": "markdown",
   "id": "f64df73f-201c-4064-aa5e-b04ea3055cbb",
   "metadata": {},
   "source": [
    "Since results were not good enough, we go for less specific labels:"
   ]
  },
  {
   "cell_type": "code",
   "execution_count": 1,
   "id": "4560ec85-f2d5-4fc0-acd9-6f7c05059b48",
   "metadata": {},
   "outputs": [],
   "source": [
    "texts = ['Food waste', 'glass trash', 'metals and plastic trash', 'non recyclable trash', 'Battery', 'paper trash', 'Unrecognized trash']"
   ]
  },
  {
   "cell_type": "markdown",
   "id": "fbf6ef47-89ab-4992-bbec-a21c13288257",
   "metadata": {},
   "source": [
    "### Inference over TACO dataset, Saving in results/OwlViT"
   ]
  },
  {
   "cell_type": "code",
   "execution_count": 7,
   "id": "9d856d7b-c781-4de0-945a-7a2211998c98",
   "metadata": {},
   "outputs": [
    {
     "name": "stdout",
     "output_type": "stream",
     "text": [
      "Owl-ViT inference is already done and results are saved.\n"
     ]
    }
   ],
   "source": [
    "if os.listdir(os.path.join(os.path.dirname(os.getcwd()), \"results/OwlViT\")):\n",
    "    print(\"Owl-ViT inference is already done and results are saved.\")\n",
    "else:\n",
    "    # Loop through the images in the folder\n",
    "    image_folder = os.path.join(os.path.dirname(os.getcwd()), \"imgs/TACO/images\")\n",
    "    for image_name in os.listdir(image_folder):\n",
    "        image_path = os.path.join(image_folder, image_name)\n",
    "        image = Image.open(image_path)\n",
    "        \n",
    "        # Prepare inputs and perform inference\n",
    "        inputs = processor(text=texts, images=image, return_tensors=\"pt\")\n",
    "        outputs = model(**inputs)\n",
    "    \n",
    "        # Post-process the outputs\n",
    "        target_sizes = torch.Tensor([image.size[::-1]])\n",
    "        results = processor.post_process_object_detection(outputs=outputs, threshold=0.1, target_sizes=target_sizes)\n",
    "    \n",
    "        # Save results to TXT file in YOLO format\n",
    "        result_file_path = os.path.join(results_dir, f\"{image_name.replace('/', '_').split('.')[0]}.txt\")\n",
    "        with open(result_file_path, 'w') as f:\n",
    "            for i, result in enumerate(results):\n",
    "                boxes, scores, labels = result[\"boxes\"], result[\"scores\"], result[\"labels\"]\n",
    "                for box, label in zip(boxes, labels):\n",
    "                    x_center, y_center, width, height = [round(coord, 6) for coord in box.tolist()]\n",
    "                    f.write(f\"{label} {x_center} {y_center} {width} {height}\\n\")\n",
    "    print(\"Done inferencing annotations over images using OwlViT\")"
   ]
  },
  {
   "cell_type": "code",
   "execution_count": null,
   "id": "93738347-e5c5-4168-9ff0-44faca2e5daf",
   "metadata": {},
   "outputs": [],
   "source": []
  }
 ],
 "metadata": {
  "kernelspec": {
   "display_name": "Python 3 (ipykernel)",
   "language": "python",
   "name": "python3"
  },
  "language_info": {
   "codemirror_mode": {
    "name": "ipython",
    "version": 3
   },
   "file_extension": ".py",
   "mimetype": "text/x-python",
   "name": "python",
   "nbconvert_exporter": "python",
   "pygments_lexer": "ipython3",
   "version": "3.8.12"
  }
 },
 "nbformat": 4,
 "nbformat_minor": 5
}
