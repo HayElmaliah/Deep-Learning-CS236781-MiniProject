{
 "cells": [
  {
   "cell_type": "markdown",
   "metadata": {},
   "source": [
    "# Theoretical Questions"
   ]
  },
  {
   "cell_type": "markdown",
   "metadata": {},
   "source": [
    "* This is the theoretical part of the final project. It includes theoretical questions from various topics covered in the course.\n",
    "* There are 7 questions among which you need to choose 6, according to the following key:\n",
    "    + Question 1 is **mandatory**.\n",
    "    + Choose **one question** from questions 2-3.\n",
    "    + Question 4 is **mandatory**.\n",
    "    + Questions 5-6 are **mandatory**.\n",
    "    + Question 7 is **mandatory**.\n",
    "* Question 1 is worth 15 points, whereas the other questions worth 7 points.\n",
    "* All in all, the maximal grade for this parts is 15+7*5=50 points.\n",
    "* **You should answer the questions on your own. We will check for plagiarism.**\n",
    "* If you need to add external images (such as graphs) to this notebook, please put them inside the 'imgs' folder. DO NOT put a reference to an external link.\n",
    "* Good luck!"
   ]
  },
  {
   "cell_type": "markdown",
   "metadata": {},
   "source": [
    "## Part 1: General understanding of the course material"
   ]
  },
  {
   "cell_type": "markdown",
   "metadata": {},
   "source": [
    "### Question 1"
   ]
  },
  {
   "cell_type": "markdown",
   "metadata": {},
   "source": [
    "1.  Relate the number of parameters in a neural network to the over-fitting phenomenon (*).\n",
    "    Relate this to the design of convolutional neural networks, and explain why CNNs are a plausible choice for an hypothesis class for visual classification tasks.\n",
    "\n",
    "    (*) In the context of classical under-fitting/over-fitting in machine learning models."
   ]
  },
  {
   "cell_type": "markdown",
   "metadata": {},
   "source": [
    "--------------------------------------------------------------------------------------------\n",
    "#### **Answer:**\n",
    "\n",
    "In machine learning, the complexity of a model is often tied to the number of parameters it has. More parameters can make a model more flexible, but this flexibility can be a double-edged sword. On one hand, a complex model can fit the training data really well, capturing intricate patterns. On the other hand, it can also overfit, meaning it learns the noise in the data rather than the actual trend. Overfitting is bad because the model won't generalize well to new, unseen data.\n",
    "\n",
    "When it comes to neural networks, Fully Connected Networks are the traditional type, and they have a lot of parameters. That's because every neuron in one layer connects to every neuron in the next layer. This makes FCNs prone to overfitting, especially when dealing with complex data like images.\n",
    "\n",
    "**Convolutional Neural Networks** offer a smarter approach, particularly for image data. They manage to reduce the number of parameters through several techniques:\n",
    "\n",
    "- Parameter Sharing: Unlike Fully Connected Networks (FCNs), where each neuron in one layer is connected to every neuron in the next layer, CNNs use the same filter across different parts of the input. This reduces the number of parameters, making CNNs less prone to overfitting.\n",
    "\n",
    "- Local Connectivity: In CNNs, each neuron is only connected to a small region of the input, known as the receptive field. This is based on the principle that pixels in an image have strong local correlations. This again reduces the number of parameters and captures the local features effectively.\n",
    "\n",
    "- Hierarchical Feature Learning: CNNs are designed to automatically and adaptively learn spatial hierarchies of features. The early layers might detect edges, the middle layers may detect shapes by combining edges, and the deeper layers may detect more complex structures. Each layer adds a level of abstraction and reduces dimensionality, making the model more generalizable.\n",
    "\n",
    "- Spatial Reduction: Through pooling layers, CNNs reduce the spatial dimensions (width & height) of the input volume. This not only reduces the computational complexity but also makes the detection of certain features invariant to scale and orientation changes.\n",
    "\n",
    "\n",
    "**Why CNNs for Visual Classification:**\n",
    "\n",
    "- Efficiency: Due to parameter sharing and local connectivity, CNNs are more computationally efficient than FCNs, allowing them to handle high-resolution images without an explosion in the number of parameters.\n",
    "\n",
    "- Robustness: The hierarchical feature learning and translation invariance make CNNs robust to variations in object appearance, making them ideal for visual classification.\n",
    "\n",
    "- Generalization: The reduced number of parameters and the ability to learn hierarchical features make CNNs less prone to overfitting, especially when the amount of training data is limited.\n",
    "\n",
    "CNNs strike a balance between complexity and generalization, making them a solid choice for image classification tasks. They manage to capture the important features in images while ignoring the noise, which is crucial for tasks that require visual understanding.\n",
    "\n",
    "--------------------------------------------------------------------------------------------"
   ]
  },
  {
   "cell_type": "markdown",
   "metadata": {},
   "source": [
    "2. Consider the linear classifier model with hand-crafted features: \n",
    "    $$f_{w,b}(x) = w^T \\psi(x) + b$$\n",
    "    where $x \\in \\mathbb{R}^2$, $\\psi$ is a non-learnable feature extractor and assume that the classification is done by $sign(f_{w,b}(x))$. Let $\\psi$ be the following feature extractor $\\psi(x)=x^TQx$ where $Q \\in \\mathbb{R}^{2 \\times 2}$ is a non-learnable positive definite matrix. Describe a distribution of the data which the model is able to approximate, but the simple linear model fails to approximate (hint: first, try to describe the decision boundary of the above classifier)."
   ]
  },
  {
   "cell_type": "markdown",
   "metadata": {},
   "source": [
    "--------------------------------------------------------------------------------------------\n",
    "#### **Answer:**\n",
    "\n",
    "The classification decision is made based on $sign(f_{w,b}(x))$, and the decision boundary is defined where $f_{w,b}(x)=0$.\n",
    "\n",
    "Substituting the given $f_{w,b}(x)$ into this equation, we get:\n",
    "\n",
    "$$0 = w^Tψ(x) + b = w^TxQx^T + b$$\n",
    "\n",
    "This equation represents a quadratic decision boundary in the form of a conic section, which could be an ellipse, hyperbola, or parabola depending on the specific values of $w$ and $Q$.\n",
    "\n",
    "Now, let's consider the type of data distribution that this model can approximate but a simple linear model cannot. A simple linear model has a decision boundary of the form $w^T$$x$$+b$$=0$, which is a straight line in $\\mathbb{R}^2$. Such a model is incapable of approximating data distributions that are not linearly separable.\n",
    "\n",
    "In contrast, our model with a quadratic decision boundary can approximate data distributions that are separable by a conic section. Mathematically, this means that the data distribution $D$ would satisfy a condition like:\n",
    "\n",
    "$$D = \\{x \\in \\mathbb{R}^2 : ax_1^2+bx_1x_2+cx_2^2+dx_1+ex_2+f\\geq0\\}$$\n",
    "\n",
    "where $a,b,c,d,e$ and $f$ are constants that define the conic section.\n",
    "\n",
    "To illustrate, consider a data distribution where points lie along an ellipse $x^2 +4y^2 = 1$ and are labeled as class $1$, while points along a smaller ellipse $x^2 + 4y^2 = 0.5$ are labeled as class $-1$. A simple linear classifier would struggle to classify these points correctly. However, a model with an elliptical decision boundary could do so effectively.\n",
    "\n",
    "In summary, this model is capable of approximating data distributions that are separable by a conic section, which includes quadratic forms like ellipses, hyperbolas, and parabolas. This is a significant advantage over simple linear models, which can only approximate data that is linearly separable.\n",
    "\n",
    "--------------------------------------------------------------------------------------------"
   ]
  },
  {
   "cell_type": "markdown",
   "metadata": {},
   "source": [
    "3. Assume that we would like to train a Neural Network for classifying images into $C$ classes. Assume that the architecture can be stored in the memory as a computational graph with $N$ nodes where the output is the logits (namely, before applying softmax) for the current batch ($f_w: B \\times Ch \\times H \\times W \\rightarrow B \\times C$). Assume that the computational graph operates on *tensor* values.\n",
    "    * Implement the CE loss assuming that the labels $y$ are hard labels given in a LongTensor of shape $B \\times 1$. **Use Torch's log_softmax and gather functions** and implement with less as possible operations."
   ]
  },
  {
   "cell_type": "code",
   "execution_count": 1,
   "metadata": {},
   "outputs": [],
   "source": [
    "from torch.nn.functional import log_softmax\n",
    "from torch import gather\n",
    "\n",
    "def compute_cross_entropy(logits, labels):\n",
    "    '''\n",
    "    Input: logits, labels = model(x), y\n",
    "    Output: loss = compute_cross_entropy(logits, labels)\n",
    "    '''\n",
    "    log_probs = log_softmax(logits, dim=1)\n",
    "    selected_log_probs = gather(log_probs, 1, labels.view(-1, 1))\n",
    "    return (-selected_log_probs).mean()"
   ]
  },
  {
   "cell_type": "markdown",
   "metadata": {},
   "source": [
    "* Using the model's function as a black box, draw the computational graph (treating both log_softmax and gather as an atomic operations). How many nodes are there in the computational graph?"
   ]
  },
  {
   "cell_type": "markdown",
   "metadata": {},
   "source": [
    "--------------------------------------------------------------------------------------------\n",
    "#### **Answer:**\n",
    "\n",
    "In the context of neural networks, a computational graph serves as a blueprint for the sequence of operations that the model performs. This blueprint consists of 5 main \"stations\" or nodes (and overall 8 nodes if we count the 2 input nodes (logits and labels) and onutput node (CE loss)).\n",
    "\n",
    "- log_softmax: Converts the raw logits into log probabilities. This makes the output more interpretable and numerically stable for further calculations.\n",
    "\n",
    "- gather: Selects the log probabilities corresponding to the true labels. This is essential for calculating the Cross-Entropy loss, which measures how well the predicted probabilities align with the true labels.\n",
    "\n",
    "- Negation: Negates the selected log probabilities, as per the Cross-Entropy formula.\n",
    "\n",
    "- Summation: Sums up the negated log probabilities.\n",
    "\n",
    "- Division: Divides the sum by the batch size $N$ to get the mean, which is the final Cross-Entropy loss.\n",
    "\n",
    "The computational graph is plotted below:\n",
    "\n",
    "![graph](imgs/deep_q1_3_1.png)\n",
    "\n",
    "--------------------------------------------------------------------------------------------"
   ]
  },
  {
   "cell_type": "markdown",
   "metadata": {},
   "source": [
    "* Now, instead of using hard labels, assume that the labels are representing some probability distribution over the $C$ classes. How would the gradient computation be affected? analyze the growth in the computational graph, memory and computation."
   ]
  },
  {
   "cell_type": "markdown",
   "metadata": {},
   "source": [
    "--------------------------------------------------------------------------------------------\n",
    "#### **Answer:**\n",
    "\n",
    "When using probability distribution labels instead of hard labels, the computational graph would undergo changes. Specifically, the gather operation that selects the log probabilities corresponding to the true labels would be replaced by a KL-divergence operation to compare the model's output distribution with the \"golden distribution\" represented by the labels. This change would not significantly affect memory usage but would increase computational complexity, as KL-divergence involves more calculations than simple gathering.\n",
    "\n",
    "The gradient computation would also become more nuanced. Instead of a straightforward backpropagation based on hard labels, the gradients would now be influenced by the entire distribution, making the optimization process more complex. This could potentially lead to a more robust model that accounts for uncertainties in the labels, but at the cost of increased computational resources.\n",
    "\n",
    "--------------------------------------------------------------------------------------------"
   ]
  },
  {
   "cell_type": "markdown",
   "metadata": {},
   "source": [
    "* Apply the same analysis in the case that we would like to double the batch size. How should we change the learning rate of the optimizer?"
   ]
  },
  {
   "cell_type": "markdown",
   "metadata": {},
   "source": [
    "--------------------------------------------------------------------------------------------\n",
    "#### **Answer:**\n",
    "\n",
    "Doubling the batch size won't change the structure of the computational graph, as each node still performs the same operation but on a larger dataset. This will, however, increase the memory requirements to accommodate the larger batch.\n",
    "\n",
    "In terms of adjusting the learning rate, a common guideline when using Stochastic Gradient Descent (SGD) is to scale the learning rate in proportion to the batch size. For instance, if you double the batch size, you might also double the learning rate. This aims to keep the contribution of each sample's gradient to the overall gradient consistent, preserving the optimization dynamics.\n",
    "\n",
    "However, this is not a one-size-fits-all rule. If you're using an optimizer like Adam, you might consider a more nuanced adjustment, such as scaling the learning rate by the square root of the batch size. Regardless of the optimizer, it's crucial to empirically validate any changes to the learning rate for the specific model and dataset.\n",
    "\n",
    "--------------------------------------------------------------------------------------------"
   ]
  },
  {
   "cell_type": "markdown",
   "metadata": {},
   "source": [
    "## Part 2: Optimization & Automatic Differentiation"
   ]
  },
  {
   "cell_type": "markdown",
   "metadata": {},
   "source": [
    "### Question 2: resolving gradient conflicts in multi-task learning"
   ]
  },
  {
   "cell_type": "markdown",
   "metadata": {},
   "source": [
    "Assume that you want to train a model to perform two tasks: task 1 and task 2. \n",
    "For each such task $i$ you have an already implemented function *loss\\_i = forward_and_compute_loss_i(model,inputs)* such that given the model and the inputs it computes the loss w.r.t task $i$ (assume that the computational graph is properly constructed). We would like to train our model using SGD to succeed in both tasks as follows: in each training iteration (batch) -\n",
    "* Let $g_i$ be the gradient w.r.t the $i$-th task.\n",
    "* If $g_1 \\cdot g_2 < 0$:\n",
    "    + Pick a task $i$ at random.\n",
    "    + Apply GD w.r.t only that task.\n",
    "* Otherwise:\n",
    "    + Apply GD w.r.t both tasks (namely $\\mathcal{L}_1 + \\mathcal{L}_2$).\n",
    "\n",
    "Note that in the above formulation the gradient is a thought of as a concatination of all the gradient w.r.t all the models parameters, and $g_1 \\cdot g_2$ stands for a dot product.\n",
    "\n",
    "What parts should be modified to implement the above? Is it the optimizer, the training loop or both? Implement the above algorithm in a code cell/s below"
   ]
  },
  {
   "cell_type": "markdown",
   "metadata": {},
   "source": [
    "### **Answer:**"
   ]
  },
  {
   "cell_type": "markdown",
   "metadata": {},
   "source": [
    "The algorithm in question aims to make a decision on which task-specific loss function to optimize, based on the dot product of the gradients $g_1$​ and $g_2​$ corresponding to the two tasks. The dot product can be described as:\n",
    "$$g_1 \\cdot g_2 = \\norm{g_1} \\cdot \\norm{g_2} \\cdot cos⁡(\\theta)$$\n",
    "\n",
    "Here, $\\norm{g_1}$ and $\\norm{g_2}$ are the norms of the gradients, and $\\theta$ is the angle between them. Since the norms are always non-negative, the sign of the dot product is determined solely by the value of $cos⁡(\\theta)$.\n",
    "\n",
    "*Decision Criteria:*\n",
    "\n",
    "- If $cos⁡(\\theta)$ is positive (i.e., $\\theta < 90 \\degree$), it implies that the gradients are pointing in similar directions. In this case, optimizing for both tasks is beneficial.\n",
    "- If $cos⁡(\\theta)$ is negative (i.e., $\\theta > 90 \\degree$), the gradients are pointing in diverging directions. In this scenario, optimizing for both could lead to a conflicting update. Hence, a random task is chosen for optimization.\n",
    "\n",
    "*Why Only Modify the Training Loop?*\n",
    "\n",
    "The core of this algorithm lies in deciding which loss function(s) to backpropagate during each optimization step. This decision is made in the training loop after the forward passes and loss computations for both tasks. No special modifications are needed for the optimizer itself, which remains a standard implementation of Gradient Descent (GD).\n",
    "\n",
    "*Why Not Modify the Optimizer?*\n",
    "\n",
    "The optimizer's role is to adjust the model parameters based on the gradients it receives. In this algorithm, the choice of which gradients to use is made beforehand, in the training loop. Therefore, modifying the optimizer would be redundant and unnecessary. The optimizer simply performs its role based on whichever gradient is passed to it after the decision-making process in the training loop.\n",
    "\n",
    "By focusing solely on the training loop for modifications, the algorithm achieves its objective of selective multi-task optimization without requiring changes to the underlying optimization algorithm (GD in this case)."
   ]
  },
  {
   "cell_type": "markdown",
   "metadata": {},
   "source": [
    "#### **Implementation:**"
   ]
  },
  {
   "cell_type": "code",
   "execution_count": null,
   "metadata": {},
   "outputs": [],
   "source": [
    "import torch\n",
    "import torch.nn as nn\n",
    "import torch.optim as optim\n",
    "import random\n",
    "\n",
    "# Initialize the model and the optimizer\n",
    "model = Model()\n",
    "optimizer = optim.SGD(model.parameters())\n",
    "\n",
    "# Training loop with GD\n",
    "for epoch in range(num_epochs):\n",
    "    optimizer.zero_grad()\n",
    "    \n",
    "    # Compute the gradients for Task 1\n",
    "    loss1 = forward_and_compute_loss_1(model, inputs1, targets1)\n",
    "    loss1.backward()\n",
    "    grads1 = torch.cat([p.grad.data.view(-1) for p in model.parameters()])\n",
    "    optimizer.zero_grad()\n",
    "    \n",
    "    # Compute the gradients for Task 2\n",
    "    loss2 = forward_and_compute_loss_2(model, inputs2, targets2)\n",
    "    loss2.backward()\n",
    "    grads2 = torch.cat([p.grad.data.view(-1) for p in model.parameters()])\n",
    "    \n",
    "    # Decide which loss to use based on the dot product of gradients\n",
    "    dot_product = torch.dot(grads1, grads2)\n",
    "    if dot_product >= 0:\n",
    "        loss = loss1 + loss2\n",
    "    else:\n",
    "        loss = loss1 if random.choice([True, False]) else loss2\n",
    "    \n",
    "    # Optimize the chosen loss\n",
    "    optimizer.zero_grad()\n",
    "    loss.backward()\n",
    "    optimizer.step()\n"
   ]
  },
  {
   "cell_type": "markdown",
   "metadata": {},
   "source": [
    "#### **Example:** (output plot already given - no need to re-run)"
   ]
  },
  {
   "cell_type": "code",
   "execution_count": 2,
   "metadata": {},
   "outputs": [
    {
     "name": "stdout",
     "output_type": "stream",
     "text": [
      "Epoch [1/200], Loss1: 378.5098, Loss2: 1302.8988, Combined Loss: 1681.4086\n",
      "Epoch [21/200], Loss1: 108.4000, Loss2: 728.0474, Combined Loss: 836.4474\n",
      "Epoch [41/200], Loss1: 70.8495, Loss2: 514.7315, Combined Loss: 585.5810\n",
      "Epoch [61/200], Loss1: 86.1678, Loss2: 463.3067, Combined Loss: 86.1678\n",
      "Epoch [81/200], Loss1: 100.0207, Loss2: 433.4662, Combined Loss: 100.0207\n",
      "Epoch [101/200], Loss1: 116.1251, Loss2: 408.6750, Combined Loss: 116.1251\n",
      "Epoch [121/200], Loss1: 107.7352, Loss2: 388.0303, Combined Loss: 495.7655\n",
      "Epoch [141/200], Loss1: 128.9424, Loss2: 382.2550, Combined Loss: 128.9424\n",
      "Epoch [161/200], Loss1: 34.7764, Loss2: 282.2366, Combined Loss: 317.0130\n",
      "Epoch [181/200], Loss1: 58.7040, Loss2: 257.7454, Combined Loss: 316.4494\n"
     ]
    },
    {
     "data": {
      "image/png": "[encoded data removed]",
      "text/plain": [
       "<Figure size 1000x600 with 1 Axes>"
      ]
     },
     "metadata": {},
     "output_type": "display_data"
    }
   ],
   "source": [
    "import torch\n",
    "import torch.nn as nn\n",
    "import torch.optim as optim\n",
    "import matplotlib.pyplot as plt\n",
    "import random\n",
    "\n",
    "# Define SimpleNN model\n",
    "class SimpleNN(nn.Module):\n",
    "    def __init__(self, input_dim, hidden_dim, output_dim):\n",
    "        super(SimpleNN, self).__init__()\n",
    "        self.layer1 = nn.Linear(input_dim, hidden_dim)\n",
    "        self.layer2 = nn.Linear(hidden_dim, output_dim)\n",
    "        \n",
    "    def forward(self, x):\n",
    "        x = torch.relu(self.layer1(x))\n",
    "        x = self.layer2(x)\n",
    "        return x\n",
    "\n",
    "# Define dummy loss functions for Task 1 and Task 2\n",
    "def forward_and_compute_loss_1(model, inputs, targets):\n",
    "    outputs = model(inputs)\n",
    "    loss = nn.MSELoss()(outputs, targets)\n",
    "    return loss\n",
    "\n",
    "def forward_and_compute_loss_2(model, inputs, targets):\n",
    "    outputs = model(inputs)\n",
    "    loss = nn.MSELoss()(outputs, targets)\n",
    "    return loss\n",
    "\n",
    "# Generate synthetic data for Task 1 and Task 2\n",
    "X1 = torch.rand(100, 1) * 10  # 100 samples, 1 feature\n",
    "y1 = 3 * X1 + 2 + torch.randn(100, 1)  # Linear relation with some noise\n",
    "X2 = torch.rand(100, 1) * 10  # 100 samples, 1 feature\n",
    "y2 = 7 * X2 - 4 + torch.randn(100, 1)  # Linear relation with some noise\n",
    "\n",
    "input_dim = 1\n",
    "hidden_dim = 16\n",
    "output_dim = 1\n",
    "model = SimpleNN(input_dim, hidden_dim, output_dim)\n",
    "optimizer = optim.SGD(model.parameters(), lr=0.01)\n",
    "\n",
    "losses_task1 = []\n",
    "losses_task2 = []\n",
    "losses_combined = []\n",
    "\n",
    "# Training loop using full-batch Gradient Descent (GD)\n",
    "# Note: While the question specifies GD, we use here mini-batch SGD with a batch\n",
    "# size equal to the entire dataset. For small datasets like the one used here,\n",
    "# this behaves similarly to GD.\n",
    "num_epochs = 200\n",
    "for epoch in range(num_epochs):\n",
    "    optimizer.zero_grad()\n",
    "    \n",
    "    loss1 = forward_and_compute_loss_1(model, X1, y1)\n",
    "    loss1.backward(retain_graph=True)\n",
    "    grads1 = [p.grad.clone().flatten() for p in model.parameters()]\n",
    "    grad1_flat = torch.cat(grads1)\n",
    "    optimizer.zero_grad()\n",
    "    \n",
    "    loss2 = forward_and_compute_loss_2(model, X2, y2)\n",
    "    loss2.backward(retain_graph=True)\n",
    "    grads2 = [p.grad.clone().flatten() for p in model.parameters()]\n",
    "    grad2_flat = torch.cat(grads2)\n",
    "    \n",
    "    dot_product = torch.dot(grad1_flat, grad2_flat)\n",
    "    if dot_product >= 0:\n",
    "        loss_combined = loss1 + loss2\n",
    "    else:\n",
    "        loss_combined = loss1 if random.randint(1, 2) == 1 else loss2\n",
    "    \n",
    "    optimizer.zero_grad()\n",
    "    loss_combined.backward()\n",
    "    optimizer.step()\n",
    "    \n",
    "    # Store loss values for visualization\n",
    "    losses_task1.append(loss1.item())\n",
    "    losses_task2.append(loss2.item())\n",
    "    losses_combined.append(loss_combined.item())\n",
    "    \n",
    "    if epoch % 20 == 0:\n",
    "        print(f\"Epoch [{epoch+1}/{num_epochs}], Loss1: {loss1.item():.4f}, Loss2: {loss2.item():.4f}, Combined Loss: {loss_combined.item():.4f}\")\n",
    "\n",
    "plt.figure(figsize=(10, 6))\n",
    "plt.plot(range(num_epochs), losses_task1, label=\"Loss Task 1\")\n",
    "plt.plot(range(num_epochs), losses_task2, label=\"Loss Task 2\")\n",
    "plt.plot(range(num_epochs), losses_combined, label=\"Combined Loss\")\n",
    "plt.xlabel(\"Epoch\")\n",
    "plt.ylabel(\"Loss\")\n",
    "plt.legend()\n",
    "plt.title(\"Loss Curves (Using Full-Batch GD)\")\n",
    "plt.show()"
   ]
  },
  {
   "cell_type": "markdown",
   "metadata": {},
   "source": [
    "### Question 3: manual automatic differentiation"
   ]
  },
  {
   "cell_type": "markdown",
   "metadata": {},
   "source": [
    "Consider the following two-input two-output function:\n",
    "$$ f(x,y) = (x^2\\sin(xy+\\frac{\\pi}{2}), x^2\\ln(1+xy)) $$\n",
    "* Draw a computational graph for the above function. Assume that the unary atomic units are squaring, taking square root, $\\exp,\\ln$, basic trigonometric functions and the binary atomic units are addition and multiplication. You would have to use constant nodes.\n",
    "* Calculate manually the forward pass.\n",
    "* Calculate manually the derivative of all outputs w.r.t all inputs using a forward mode AD.\n",
    "* Calculate manually the derivative of all outputs w.r.t all inputs using a backward mode AD."
   ]
  },
  {
   "cell_type": "markdown",
   "metadata": {},
   "source": [
    "## Part 3: Sequential Models"
   ]
  },
  {
   "cell_type": "markdown",
   "metadata": {},
   "source": [
    "### Question 4: RNNs vs Transformers in the real life"
   ]
  },
  {
   "cell_type": "markdown",
   "metadata": {},
   "source": [
    "In each one of the following scenarios decide whether to use RNN based model or a transformer based model. Justify your choice.\n",
    "1. You are running a start-up in the area of automatic summarization of academic papers. The inference of the model is done on the server side, and it is very important for it to be fast.\n",
    "2. You need to design a mobile application that gathers small amount of data from few apps in every second and then uses a NN to possibly generate an alert given the information in the current second and the information from the past minute.\n",
    "3. You have a prediction task over fixed length sequences on which you know the following properties:\n",
    "    + In each sequence there are only few tokens that the model should attend to.\n",
    "    + Most of the information needed for generating a reliable prediction is located at the beginning of the sequence.\n",
    "    + There is no restriction on the computational resources."
   ]
  },
  {
   "cell_type": "markdown",
   "metadata": {},
   "source": [
    "#### **Answer:**"
   ]
  },
  {
   "cell_type": "markdown",
   "metadata": {},
   "source": [
    "**Scenario 1:** Automatic Summarization of Academic Papers\n",
    "\n",
    "**Choice:** Transformer-based model\n",
    "\n",
    "**Justification:**\n",
    "\n",
    "Transformers are particularly efficient at handling long-range dependencies, a feature that is essential for summarizing academic papers. In a paper, the introduction might relate to conclusions, or a point in one section could be clarified several sections later. Transformers can capture these relationships thanks to their attention mechanism. Additionally, Transformers are designed for parallel processing, meaning they can handle many tasks at the same time, making the inference faster. This is crucial when the model is running on a server and needs to deliver quick results. So, for a task that demands both speed and a deep understanding of context, Transformers are the way to go.\n",
    "\n",
    "**Scenario 2:** Mobile Application for Real-Time Alerts\n",
    "\n",
    "**Choice:** RNN-based model\n",
    "\n",
    "**Justification:**\n",
    "\n",
    "RNNs excel at capturing temporal dependencies, which means they're good at using past information to help make current decisions. This is particularly useful for a mobile application that gathers data every second and might need to generate an alert based on the past minute's data. RNNs can effectively capture these patterns over time. Additionally, RNNs are generally more lightweight compared to Transformers. This is an important consideration for mobile applications where computational resources are limited. In this real-time scenario, the complexity and computational overhead of Transformers could be unnecessary and even counterproductive.\n",
    "\n",
    "**Scenario 3:** Prediction Task Over Fixed-Length Sequences\n",
    "\n",
    "**Choice:** Transformer-based model\n",
    "\n",
    "**Justification:**\n",
    "\n",
    "Transformers come with a built-in attention mechanism that allows them to focus on specific parts of the input, which is beneficial when only a few tokens in the sequence are relevant. This is akin to a detective knowing exactly where to look for clues. Furthermore, if most of the important information is located at the beginning of the sequence, the Transformer model can easily give more \"attention\" to that part, making the prediction more reliable. Since there are no restrictions on computational resources for this task, the generally higher computational demands of a Transformer are not a concern."
   ]
  },
  {
   "cell_type": "markdown",
   "metadata": {},
   "source": [
    "## Part 4: Generative modeling"
   ]
  },
  {
   "cell_type": "markdown",
   "metadata": {},
   "source": [
    "### Question 5: VAEs and GANS"
   ]
  },
  {
   "cell_type": "markdown",
   "metadata": {},
   "source": [
    "Suggest a method for combining VAEs and GANs. Focus on the different components of the model and how to train them jointly (the objectives). Which drawbacks of these models the combined model may overcome? which not?"
   ]
  },
  {
   "cell_type": "markdown",
   "metadata": {},
   "source": [
    "#### **Answer:**"
   ]
  },
  {
   "cell_type": "markdown",
   "metadata": {},
   "source": [
    "**Components of the VAE-GAN Model:**\n",
    "\n",
    "- Encoder (VAE Component): This part takes real-world data and compresses it into a latent space, serving as a mapping from the data to a lower-dimensional \"code.\" This is similar to a standard VAE where the encoder's role is to understand the underlying structure of the data.\n",
    "- Decoder (VAE Component): This reverses the Encoder's action, translating the latent space back into real-world data. It provides a mechanism to generate new data samples based on this latent \"code.\"\n",
    "- Generator (GAN Component): This part is like an artist creating fake but believable data from random noise. It aims to produce data that closely resembles real data, thereby fooling the Discriminator.\n",
    "- Discriminator (GAN Component): This is the art critic of the system. It evaluates the authenticity of data samples, distinguishing between real and fake. The feedback it provides helps the Generator improve its data creation skills.\n",
    "\n",
    "**Training Objectives:**\n",
    "\n",
    "- Reconstruction Loss (VAE): This measures how well the Decoder translates the latent space back to real-world data. Usually, this is done using mean-squared error or cross-entropy, serving as a quality check for the VAE component.\n",
    "- Regularization of Latent Space (VAE): This involves minimizing the Kullback-Leibler (KL) divergence between the learned latent distribution and a prior distribution. This encourages the Encoder to create a smooth, structured latent space, making it easier to navigate.\n",
    "- Generator Training (GAN): The Generator's loss is defined as the negative log likelihood of the Discriminator correctly classifying the generated samples as real. This is a measure of how well the Generator is doing at creating convincing fakes.\n",
    "- Discriminator Training (GAN): The Discriminator's loss is the sum of the negative log likelihoods for classifying real samples as real and fake samples as fake. This serves as a performance metric for the Discriminator's ability to distinguish between real and fake data.\n",
    "\n",
    "The overall training process involves alternating between updating the VAE and GAN components. The gradients from both are combined to update the model parameters, aiming to minimize the total loss, which is a combination of VAE reconstruction loss, KL divergence, and GAN losses.\n",
    "\n",
    "**Benefits:**\n",
    "\n",
    "- Quality and Diversity: The combined model leverages the strengths of both VAE and GAN to generate high-quality and diverse samples. This addresses the issue of mode collapse in GANs, where the model ends up generating very similar samples, and the lack of structured representations in VAEs.\n",
    "\n",
    "- Reduced Blurriness: The Discriminator in the GAN component can help refine the generated samples, reducing the blurriness that is often a drawback in standalone VAEs.\n",
    "\n",
    "- Interpretable and Controllable Mechanism: The presence of a structured latent space from the VAE component provides an interpretable and controllable mechanism for data generation, which is often lacking in standalone GANs.\n",
    "\n",
    "- Improved Stability: The combined model can potentially offer more stable training dynamics by incorporating the VAE's structured latent space and reconstruction loss as additional regularization mechanisms.\n",
    "\n",
    "**Drawbacks:**\n",
    "\n",
    "- Complex Training: One of the most significant challenges in combining VAEs and GANs lies in the intricacy of the training process. The model aims to minimize a joint loss function that comprises multiple components, each with its own set of objectives. Specifically, the loss function includes elements like the reconstruction loss from the VAE, the KL divergence for regularizing the latent space, and the GAN losses for both the generator and discriminator. Balancing these diverse objectives to achieve a harmonious trade-off is a non-trivial task. This complexity often necessitates extensive fine-tuning and experimentation, making the training process more cumbersome and time-consuming.\n",
    "\n",
    "- Training Stability: GANs are known for their unstable training, which can lead to non-convergence. While combining with VAE might improve stability to some extent, the model is still likely to be prone to instability issues.\n",
    "\n",
    "- Mode Collapse: Both VAEs and GANs can suffer from mode collapse, where the generative model ends up producing very similar or even identical samples. Combining the two might mitigate this to some extent, but it's not a guaranteed fix.\n",
    "\n",
    "- Resource Intensive: GANs are generally more computationally expensive, and when combined with VAEs, the resource requirements could be substantial, potentially limiting the applicability of the model in resource-constrained environments."
   ]
  },
  {
   "cell_type": "markdown",
   "metadata": {},
   "source": [
    "### Question 6: Diffusion Models"
   ]
  },
  {
   "cell_type": "markdown",
   "metadata": {},
   "source": [
    "Show that $q(x_{t-1}|x_t,x_0)$ is tractable and is given by $\\mathcal{N}(x_{t-1};\\tilde{\\mu}(x_t,x_0),\\tilde{\\beta_t}I)$ where the terms for $\\tilde{\\mu}(x_t,x_0)$ and $\\tilde{\\beta_t}$ are given in the last tutorial. Do so by explicitly computing the PDF."
   ]
  },
  {
   "cell_type": "markdown",
   "metadata": {},
   "source": [
    "#### **Answer:**"
   ]
  },
  {
   "cell_type": "markdown",
   "metadata": {},
   "source": [
    "First, a few anecdotes from the material:\n",
    "\n",
    "- In the context of diffusion models, the function $q(x_{t}|x_{t-1},x_{0})$ introduces incremental Gaussian noise, beginning from a starting value $x_0$. <br> For every time step $t \\in [1,T]$, this function behaves like a Gaussian random variable. <br> According to the tutorial, this function can be expressed as:\n",
    "$$q(x_{t}|x_{t-1},x_{0}) = N(x_{t};\\sqrt{1-\\beta_{t}}, \\beta_{t}I)$$\n",
    "Where $\\beta_{t}$ serves as a scalar hyperparameter, often referred to as the 'variance scheduler'.\n",
    "\n",
    "- The function upholds the Markov property, which can be stated as:\n",
    "$$q(x_t|x_{t-1},x_0)=q(x_t|x_{t-1})$$\n",
    "\n",
    "- A very important property of the forward process is that $q(x_t | x_0)$ can be computed directly: $$q(x_{t}|x_{0})=N(x_{t};\\sqrt{\\bar{\\alpha_{t}}}x_{0}, (1-\\bar\\alpha_{t})I)$$ where $a_t := 1-β_t$ and $\\bar{a}_t := Π_{t=1}^{T}{a_t}$.\n",
    "\n",
    "- The terms for $\\tilde{\\mu}(x_t,x_0)$ and $\\tilde{\\beta_t}$ are given as follows:\n",
    "\n",
    "  - $$ \\tilde{\\mu}(x_t,x_0) := \\frac{\\sqrt{\\bar{\\alpha}_{t-1}}\\beta_t}{1-\\bar{\\alpha}_t}x_0 + \\frac{\\sqrt{\\alpha_t}(1-\\bar{\\alpha}_{t-1})}{1-\\bar{\\alpha}_t}x_t$$\n",
    "\n",
    "  - $$\\tilde{\\beta}_t := \\frac{1-\\bar{\\alpha}_{t-1}}{1-\\bar{\\alpha}_t} \\beta_t$$\n",
    "\n",
    "Now, let's proceed to show that $q(x_{t-1}|x_t,x_0)$ is tractable and is given by $\\mathcal{N}(x_{t-1};\\tilde{\\mu}(x_t,x_0),\\tilde{\\beta_t}I)$ by explicitly computing the PDF: <br><br>\n",
    "\n",
    "Using Bayes rule, we have:\n",
    "$$q(x_{t-1}|x_{t},x_{0}) = q(x_{t}|x_{t-1},x_{0})\\dfrac{q(x_{t-1}|x_{0})}{q(x_{t}|x_{0})}$$\n",
    "Using the Markov property, we have:\n",
    "$$q(x_{t}|x_{t-1},x_{0}) = q(x_{t}|x_{t-1})$$\n",
    "Therefore, by now:\n",
    "$$q(x_{t-1}|x_{t},x_{0}) =  q(x_{t}|x_{t-1})\\dfrac{q(x_{t-1}|x_{0})}{q(x_{t}|x_{0})} $$\n",
    "Using the above formulas, we have:\n",
    "$$q(x_{t-1}|x_{t},x_{0}) = N(x_{t};\\sqrt{1-\\beta_{t}}, \\beta_{t}I)\\dfrac{N(x_{t-1};\\sqrt{\\bar{\\alpha_{t-1}}}x_{0}, (1-\\bar\\alpha_{t-1})I)}{N(x_{t};\\sqrt{\\bar{\\alpha_{t}}}x_{0}, (1-\\bar\\alpha_{t})I)}$$\n",
    "$$= \\frac{-1}{2\\sqrt{2(1-\\alpha_{t})\\pi}}\\frac{(x_t - \\sqrt{\\alpha_t}x_{t-1})^2}{1-\\alpha_t}\\frac{-1}{2\\sqrt{2(1-\\bar{\\alpha_{t-1}})\\pi}}\\frac{(x_{t-1}-\\sqrt{\\bar{\\alpha_{t-1}}}x_0)^2}{1-\\bar{\\alpha_{t-1}}}\\frac{\\sqrt{2(1-\\bar{\\alpha_{t}})\\pi}}{2}\\frac{(x_t-\\sqrt{\\bar{\\alpha_{t}}}x_0)^2}{1-\\bar{\\alpha_t}}$$<br>\n",
    "\n",
    "After some algebraic derivations, we have:\n",
    "$$\\cdot \\cdot \\cdot = \\frac{1}{\\sqrt{2\\tilde{\\beta_{t}}\\pi}}\n",
    "\\exp(-\\frac{1}{2}\n",
    "\\frac{1}{\\frac{(1-\\alpha_{t})(1-\\bar{\\alpha_{t-1}})}{1-\\bar{\\alpha_{t}}}}(\n",
    "x_{t-1}^{2}\n",
    "-2\\tilde{\\mu}(x_{t},x_{0})x_{t-1}+\n",
    "\\tilde{\\mu}(x_{t},x_{0})^{2}\n",
    "))$$ <br>\n",
    "We notice that the expression's form is like that of our formula, concluding:\n",
    "$$q(x_{t-1}|x_{t},x_{0})=N(x_{t-1};\\tilde{\\mu}(x_{t},x_{0}), \\tilde{\\beta_{t}})$$ <br>\n",
    "As requested."
   ]
  },
  {
   "cell_type": "markdown",
   "metadata": {},
   "source": [
    "## Part 5: Training Methods"
   ]
  },
  {
   "cell_type": "markdown",
   "metadata": {},
   "source": [
    "### Question 7: Batch Normalization and Dropout"
   ]
  },
  {
   "cell_type": "markdown",
   "metadata": {},
   "source": [
    "For both BatchNorm and Dropout analyze the following:\n",
    "1. How to use them during the training phase (both in forward pass and backward pass)?\n",
    "2. How differently they behave in the inference phase? How to distinguish these operation modes in code?\n",
    "3. Assume you would like to perform multi-GPU training (*) to train your model. What should be done in order for BatchNorm and dropout to work properly? assume that each process holds its own copy of the model and that the processes can share information with each other.\n",
    "\n",
    "(*): In a multi-GPU training each GPU is associated with its own process that holds an independent copy of the model. In each training iteration a (large) batch is split among these processes (GPUs) which compute the gradients of the loss w.r.t the relevant split of the data. Afterwards, the gradients from each process are then shared and averaged so that the GD would take into account the correct gradient and to assure synchornization of the model copies. Note that the proccesses are blocked between training iterations."
   ]
  },
  {
   "cell_type": "markdown",
   "metadata": {},
   "source": [
    "#### **Answer:**"
   ]
  },
  {
   "cell_type": "markdown",
   "metadata": {},
   "source": [
    "**BatchNorm:**\n",
    "\n",
    "1. Training Phase:\n",
    "\n",
    "- Forward Pass: BatchNorm is inserted after each hidden layer but before the activation function. During the forward pass, it calculates the mean and variance of the current mini-batch. The layer then normalizes the mini-batch by subtracting the mean and dividing by the standard deviation. After normalization, the layer performs a \"scale and shift\" operation using learnable parameters $\\gamma$ (scale) and $\\beta$ (shift).\n",
    "\n",
    "- Backward Pass: During backpropagation, gradients of the loss with respect to $\\gamma$ and $\\beta$ are computed using the chain rule. These gradients are used to update $\\gamma$ and $\\beta$ during the optimization process.\n",
    "\n",
    "2. Inference Phase:\n",
    "\n",
    "- BatchNorm uses pre-computed \"moving mean\" and \"moving variance\" during inference to normalize the data. These statistics are calculated during training.\n",
    "\n",
    "- Code Distinguish: In PyTorch, you can switch between training and inference modes using model.train() for training and model.eval() for inference.\n",
    "\n",
    "3. Multi-GPU Training:\n",
    "\n",
    "- Each GPU will have its own mini-batch, and therefore its own mean and variance. To ensure consistency, the GPUs must synchronize these statistics. Concurrent programming methods can be used for this synchronization.\n",
    "\n",
    "**Dropout:**\n",
    "\n",
    "1. Training Phase:\n",
    "\n",
    "- Forward Pass: Dropout is applied between hidden layers. During the forward pass, a fraction of the neurons (determined by the dropout rate) have their outputs set to zero. This introduces randomness and prevents overfitting.\n",
    "\n",
    "- Backward Pass: Only the neurons that were not \"dropped out\" contribute to the gradient during backpropagation. The gradients are then scaled according to the dropout rate to maintain expectation.\n",
    "\n",
    "2. Inference Phase:\n",
    "\n",
    "- Dropout is generally not used during inference. All neurons are active, but their outputs are scaled by the dropout rate used during training to maintain the same expectation.\n",
    "\n",
    "- Code Distinguish: Similar to BatchNorm, you can use model.train() and model.eval() to switch between training and inference modes in PyTorch.\n",
    "\n",
    "3. Multi-GPU Training:\n",
    "\n",
    "- Each GPU can apply dropout independently, as long as they use the same dropout rate. The gradients from each GPU are then averaged, maintaining the same effective dropout rate across GPUs."
   ]
  }
 ],
 "metadata": {
  "kernelspec": {
   "display_name": "Python 3 (ipykernel)",
   "language": "python",
   "name": "python3"
  },
  "language_info": {
   "codemirror_mode": {
    "name": "ipython",
    "version": 3
   },
   "file_extension": ".py",
   "mimetype": "text/x-python",
   "name": "python",
   "nbconvert_exporter": "python",
   "pygments_lexer": "ipython3",
   "version": "3.8.12"
  }
 },
 "nbformat": 4,
 "nbformat_minor": 4
}
